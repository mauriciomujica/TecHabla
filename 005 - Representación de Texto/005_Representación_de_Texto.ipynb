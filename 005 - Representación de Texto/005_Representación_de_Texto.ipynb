{
  "nbformat": 4,
  "nbformat_minor": 0,
  "metadata": {
    "colab": {
      "provenance": []
    },
    "kernelspec": {
      "name": "python3",
      "display_name": "Python 3"
    },
    "language_info": {
      "name": "python"
    }
  },
  "cells": [
    {
      "cell_type": "markdown",
      "source": [
        "# 1. Instalaciones e Importaciones"
      ],
      "metadata": {
        "id": "wfFKmQ_DqGHn"
      }
    },
    {
      "cell_type": "code",
      "source": [
        "# Instalar si es necesario (sklearn suele venir en Colab)\n",
        "# !pip install scikit-learn nltk spacy pandas > /dev/null # Pandas para mostrar matrices fácil\n",
        "# !python -m spacy download es_core_news_sm > /dev/null\n",
        "\n",
        "# Importaciones\n",
        "import nltk\n",
        "import spacy\n",
        "import re\n",
        "import string\n",
        "import pandas as pd # Para DataFrames"
      ],
      "metadata": {
        "id": "JWLziqyXqF3l"
      },
      "execution_count": 1,
      "outputs": []
    },
    {
      "cell_type": "code",
      "source": [
        "from sklearn.feature_extraction.text import CountVectorizer, TfidfVectorizer"
      ],
      "metadata": {
        "id": "bv6umlcZqVxd"
      },
      "execution_count": 2,
      "outputs": []
    },
    {
      "cell_type": "code",
      "source": [
        "!python -m spacy download es_core_news_sm > /dev/null\n",
        "nlp = spacy.load('es_core_news_sm')\n",
        "print(\"Modelo de spaCy 'es_core_news_sm' cargado.\")"
      ],
      "metadata": {
        "id": "cF9_8Jhtqavw",
        "colab": {
          "base_uri": "https://localhost:8080/"
        },
        "outputId": "10541ebd-9517-4b2f-db9f-f4331944d4fb"
      },
      "execution_count": 3,
      "outputs": [
        {
          "output_type": "stream",
          "name": "stdout",
          "text": [
            "Modelo de spaCy 'es_core_news_sm' cargado.\n"
          ]
        }
      ]
    },
    {
      "cell_type": "code",
      "source": [
        "nltk.download('stopwords')\n",
        "stopwords_es = nltk.corpus.stopwords.words('spanish')\n",
        "\n",
        "print(f\"\\nUsando {len(stopwords_es)} stopwords de NLTK.\")"
      ],
      "metadata": {
        "id": "n-YQIwA2qzpg",
        "colab": {
          "base_uri": "https://localhost:8080/"
        },
        "outputId": "f86bc3dd-025e-469e-87ab-69246cae4792"
      },
      "execution_count": 4,
      "outputs": [
        {
          "output_type": "stream",
          "name": "stdout",
          "text": [
            "\n",
            "Usando 313 stopwords de NLTK.\n"
          ]
        },
        {
          "output_type": "stream",
          "name": "stderr",
          "text": [
            "[nltk_data] Downloading package stopwords to /root/nltk_data...\n",
            "[nltk_data]   Unzipping corpora/stopwords.zip.\n"
          ]
        }
      ]
    },
    {
      "cell_type": "markdown",
      "source": [
        "# 7. Micro-Laboratorio (Ejercicio Práctico)\n",
        "\n",
        "**Consigna:**\n",
        "\n",
        "Usando las `reviews` y las funciones de preprocesamiento de clases previas (o volviendo a procesarlas ahora):\n",
        "1.  Asegúrate de tener la lista de `reviews_preprocesadas` (cada elemento es un string con los lemas unidos por espacios). Si no la tenés, generála usando la función `preprocesar_texto_para_vectorizar` sobre las `reviews` originales.\n",
        "2.  **Crear Matriz BoW:**\n",
        "    *   Instancia un `CountVectorizer`.\n",
        "    *   Aplícalo a las `reviews_preprocesadas` usando `fit_transform()`.\n",
        "    *   Obtén el vocabulario (`get_feature_names_out()`).\n",
        "    *   Crea un DataFrame de Pandas para visualizar la matriz BoW.\n",
        "3.  **Crear Matriz TF-IDF:**\n",
        "    *   Instancia un `TfidfVectorizer`.\n",
        "    *   Aplícalo a las **mismas** `reviews_preprocesadas` usando `fit_transform()`.\n",
        "    *   **Importante:** Para comparar fácil, puedes pasarle el vocabulario aprendido por el CountVectorizer al TfidfVectorizer usando el argumento `vocabulary=`. O viceversa. La idea es que ambas matrices usen las mismas columnas en el mismo orden.\n",
        "    *   Crea un DataFrame de Pandas para visualizar la matriz TF-IDF (redondea los valores a 3 decimales).\n",
        "4.  **Analizar:**\n",
        "    *   Imprime ambas matrices.\n",
        "    *   Elige una o dos reviews. ¿Qué palabras tienen los pesos más altos en TF-IDF para esa review? ¿Coincide con lo que esperarías que sean las palabras clave de esa review?\n",
        "    *   Busca alguna palabra que tenga un conteo > 0 en BoW pero un peso TF-IDF relativamente bajo. ¿Por qué podría ser? (Pista: ¿aparece en muchas reviews?)."
      ],
      "metadata": {
        "id": "ANf9C4_AuURY"
      }
    },
    {
      "cell_type": "code",
      "source": [
        "# Dataset (el mismo del martes)\n",
        "reviews = [\n",
        "    \"Una película emocionante con actuaciones brillantes. ¡Me encantó!\",\n",
        "    \"Muy aburrida y lenta. El guión era predecible y los actores no convencían.\",\n",
        "    \"Los efectos especiales fueron impresionantes, pero la historia dejaba mucho que desear.\",\n",
        "    \"¡Qué gran comedia! Me reí sin parar durante toda la película.\",\n",
        "    \"Un documental necesario que aborda temas importantes con profundidad y sensibilidad.\"\n",
        "]"
      ],
      "metadata": {
        "id": "5rxQecyytQiI"
      },
      "execution_count": 5,
      "outputs": []
    },
    {
      "cell_type": "code",
      "source": [
        "def preprocesar_texto_para_vectorizar(texto):\n",
        "  # Limpieza básica\n",
        "  texto = texto.lower()\n",
        "  texto = re.sub(r'\\d+', '', texto)\n",
        "  texto = texto.translate(str.maketrans(string.punctuation + '¡¿', ' ' * len(string.punctuation + '¡¿')))\n",
        "  texto = re.sub(r'\\s+', ' ', texto).strip()\n",
        "  # Lematización y filtrado con spaCy\n",
        "  doc = nlp(texto)\n",
        "  lemas = [token.lemma_ for token in doc if token.is_alpha and not token.is_stop]\n",
        "  # Unir lemas en un solo string\n",
        "  return \" \".join(lemas)"
      ],
      "metadata": {
        "id": "VTqNZ8xypRpQ"
      },
      "execution_count": 6,
      "outputs": []
    },
    {
      "cell_type": "code",
      "source": [
        "reviews_procesadas = [preprocesar_texto_para_vectorizar(review) for review in reviews]"
      ],
      "metadata": {
        "id": "kDsQOIQYpU5v"
      },
      "execution_count": 7,
      "outputs": []
    },
    {
      "cell_type": "code",
      "source": [
        "reviews_procesadas"
      ],
      "metadata": {
        "colab": {
          "base_uri": "https://localhost:8080/"
        },
        "id": "iD1aaiYDpgfH",
        "outputId": "adeded5b-17e0-41c0-eb58-3f061dde81df"
      },
      "execution_count": 8,
      "outputs": [
        {
          "output_type": "execute_result",
          "data": {
            "text/plain": [
              "['película emocionante actuación brillante encantar',\n",
              " 'aburrido lento guión predecible actor convencer',\n",
              " 'efecto especial impresionante historia dejar desear',\n",
              " 'comedia reí parar película',\n",
              " 'documental necesario abordar tema importante profundidad sensibilidad']"
            ]
          },
          "metadata": {},
          "execution_count": 8
        }
      ]
    },
    {
      "cell_type": "code",
      "source": [
        "vectorizer_bow = CountVectorizer()\n",
        "bow_matrix = vectorizer_bow.fit_transform(reviews_procesadas)"
      ],
      "metadata": {
        "id": "noVDTVHyppxR"
      },
      "execution_count": 9,
      "outputs": []
    },
    {
      "cell_type": "code",
      "source": [
        "vocabulario = vectorizer_bow.get_feature_names_out()\n",
        "print(\"Vocabulario aprendido:\")\n",
        "print(vocabulario)\n",
        "print(f\"\\nTamaño del vocabulario: {len(vocabulario)}\")"
      ],
      "metadata": {
        "colab": {
          "base_uri": "https://localhost:8080/"
        },
        "id": "olc6tOerp6gE",
        "outputId": "579d007e-961a-408d-eecc-2fb632ca3329"
      },
      "execution_count": 10,
      "outputs": [
        {
          "output_type": "stream",
          "name": "stdout",
          "text": [
            "Vocabulario aprendido:\n",
            "['abordar' 'aburrido' 'actor' 'actuación' 'brillante' 'comedia'\n",
            " 'convencer' 'dejar' 'desear' 'documental' 'efecto' 'emocionante'\n",
            " 'encantar' 'especial' 'guión' 'historia' 'importante' 'impresionante'\n",
            " 'lento' 'necesario' 'parar' 'película' 'predecible' 'profundidad' 'reí'\n",
            " 'sensibilidad' 'tema']\n",
            "\n",
            "Tamaño del vocabulario: 27\n"
          ]
        }
      ]
    },
    {
      "cell_type": "code",
      "source": [
        "bow_df = pd.DataFrame(bow_matrix.toarray(), columns=vocabulario, index=[f\"Doc_{i+1}\" for i in range(len(reviews))])"
      ],
      "metadata": {
        "id": "oWGMFTZrqApc"
      },
      "execution_count": 11,
      "outputs": []
    },
    {
      "cell_type": "code",
      "source": [
        "vectorizer_tfidf = TfidfVectorizer()"
      ],
      "metadata": {
        "id": "iFRSpUcJqP0y"
      },
      "execution_count": 12,
      "outputs": []
    },
    {
      "cell_type": "code",
      "source": [
        "tfidf_matrix = vectorizer_tfidf.fit_transform(reviews_procesadas)"
      ],
      "metadata": {
        "id": "r2waxHpWqS59"
      },
      "execution_count": 13,
      "outputs": []
    },
    {
      "cell_type": "code",
      "source": [
        "vocabulario_tfidf = vectorizer_tfidf.get_feature_names_out()\n",
        "vectorizer_bow_for_compare = CountVectorizer(vocabulary=vocabulario_tfidf)\n",
        "bow_matrix_for_compare = vectorizer_bow_for_compare.fit_transform(reviews_procesadas)\n",
        "bow_df_for_compare = pd.DataFrame(bow_matrix_for_compare.toarray(), columns=vocabulario_tfidf, index=[f\"Doc_{i+1}\" for i in range(len(reviews))])"
      ],
      "metadata": {
        "id": "tMleRa7Kqqfh"
      },
      "execution_count": 15,
      "outputs": []
    },
    {
      "cell_type": "code",
      "source": [
        "tfidf_df = pd.DataFrame(tfidf_matrix.toarray(), columns=vocabulario_tfidf, index=[f\"Doc_{i+1}\" for i in range(len(reviews))])"
      ],
      "metadata": {
        "id": "NLMU-LrSrAm_"
      },
      "execution_count": 16,
      "outputs": []
    },
    {
      "cell_type": "code",
      "source": [
        "print(\"--- Comparación BoW vs TF-IDF ---\")\n",
        "\n",
        "print(\"\\nMatriz Bag-of-Words (Revisada con vocabulario TF-IDF):\")\n",
        "print(bow_df_for_compare)\n",
        "\n",
        "print(\"\\nMatriz TF-IDF:\")\n",
        "print(tfidf_df.round(3))"
      ],
      "metadata": {
        "id": "eYggT2xyrMNk",
        "outputId": "08f8b415-f257-4b24-f6dd-586e4ce1d542",
        "colab": {
          "base_uri": "https://localhost:8080/"
        }
      },
      "execution_count": 17,
      "outputs": [
        {
          "output_type": "stream",
          "name": "stdout",
          "text": [
            "--- Comparación BoW vs TF-IDF ---\n",
            "\n",
            "Matriz Bag-of-Words (Revisada con vocabulario TF-IDF):\n",
            "       abordar  aburrido  actor  actuación  brillante  comedia  convencer  \\\n",
            "Doc_1        0         0      0          1          1        0          0   \n",
            "Doc_2        0         1      1          0          0        0          1   \n",
            "Doc_3        0         0      0          0          0        0          0   \n",
            "Doc_4        0         0      0          0          0        1          0   \n",
            "Doc_5        1         0      0          0          0        0          0   \n",
            "\n",
            "       dejar  desear  documental  ...  impresionante  lento  necesario  parar  \\\n",
            "Doc_1      0       0           0  ...              0      0          0      0   \n",
            "Doc_2      0       0           0  ...              0      1          0      0   \n",
            "Doc_3      1       1           0  ...              1      0          0      0   \n",
            "Doc_4      0       0           0  ...              0      0          0      1   \n",
            "Doc_5      0       0           1  ...              0      0          1      0   \n",
            "\n",
            "       película  predecible  profundidad  reí  sensibilidad  tema  \n",
            "Doc_1         1           0            0    0             0     0  \n",
            "Doc_2         0           1            0    0             0     0  \n",
            "Doc_3         0           0            0    0             0     0  \n",
            "Doc_4         1           0            0    1             0     0  \n",
            "Doc_5         0           0            1    0             1     1  \n",
            "\n",
            "[5 rows x 27 columns]\n",
            "\n",
            "Matriz TF-IDF:\n",
            "       abordar  aburrido  actor  actuación  brillante  comedia  convencer  \\\n",
            "Doc_1    0.000     0.000  0.000      0.464      0.464    0.000      0.000   \n",
            "Doc_2    0.000     0.408  0.408      0.000      0.000    0.000      0.408   \n",
            "Doc_3    0.000     0.000  0.000      0.000      0.000    0.000      0.000   \n",
            "Doc_4    0.000     0.000  0.000      0.000      0.000    0.523      0.000   \n",
            "Doc_5    0.378     0.000  0.000      0.000      0.000    0.000      0.000   \n",
            "\n",
            "       dejar  desear  documental  ...  impresionante  lento  necesario  parar  \\\n",
            "Doc_1  0.000   0.000       0.000  ...          0.000  0.000      0.000  0.000   \n",
            "Doc_2  0.000   0.000       0.000  ...          0.000  0.408      0.000  0.000   \n",
            "Doc_3  0.408   0.408       0.000  ...          0.408  0.000      0.000  0.000   \n",
            "Doc_4  0.000   0.000       0.000  ...          0.000  0.000      0.000  0.523   \n",
            "Doc_5  0.000   0.000       0.378  ...          0.000  0.000      0.378  0.000   \n",
            "\n",
            "       película  predecible  profundidad    reí  sensibilidad   tema  \n",
            "Doc_1     0.374       0.000        0.000  0.000         0.000  0.000  \n",
            "Doc_2     0.000       0.408        0.000  0.000         0.000  0.000  \n",
            "Doc_3     0.000       0.000        0.000  0.000         0.000  0.000  \n",
            "Doc_4     0.422       0.000        0.000  0.523         0.000  0.000  \n",
            "Doc_5     0.000       0.000        0.378  0.000         0.378  0.378  \n",
            "\n",
            "[5 rows x 27 columns]\n"
          ]
        }
      ]
    },
    {
      "cell_type": "code",
      "metadata": {
        "colab": {
          "base_uri": "https://localhost:8080/",
          "height": 568
        },
        "id": "85e4e0a6",
        "outputId": "9af502ec-d127-494a-f60e-2cbd17f6c7b8"
      },
      "source": [
        "review1 = reviews[0]\n",
        "review2 = reviews[1]\n",
        "\n",
        "pesos_review1 = tfidf_df.loc['Doc_1']\n",
        "pesos_review2 = tfidf_df.loc['Doc_2']\n",
        "\n",
        "pesos_review1 = pesos_review1.sort_values(ascending=False)\n",
        "pesos_review2 = pesos_review2.sort_values(ascending=False)\n",
        "\n",
        "print(f\"\\nPesos más altos en la review 1:\")\n",
        "display(pesos_review1[pesos_review1 > 0])\n",
        "\n",
        "print(f\"\\nPesos más altos en la review 2:\")\n",
        "display(pesos_review2[pesos_review2 > 0])"
      ],
      "execution_count": 24,
      "outputs": [
        {
          "output_type": "stream",
          "name": "stdout",
          "text": [
            "\n",
            "Pesos más altos en la review 1:\n"
          ]
        },
        {
          "output_type": "display_data",
          "data": {
            "text/plain": [
              "actuación      0.463693\n",
              "brillante      0.463693\n",
              "emocionante    0.463693\n",
              "encantar       0.463693\n",
              "película       0.374105\n",
              "Name: Doc_1, dtype: float64"
            ],
            "text/html": [
              "<div>\n",
              "<style scoped>\n",
              "    .dataframe tbody tr th:only-of-type {\n",
              "        vertical-align: middle;\n",
              "    }\n",
              "\n",
              "    .dataframe tbody tr th {\n",
              "        vertical-align: top;\n",
              "    }\n",
              "\n",
              "    .dataframe thead th {\n",
              "        text-align: right;\n",
              "    }\n",
              "</style>\n",
              "<table border=\"1\" class=\"dataframe\">\n",
              "  <thead>\n",
              "    <tr style=\"text-align: right;\">\n",
              "      <th></th>\n",
              "      <th>Doc_1</th>\n",
              "    </tr>\n",
              "  </thead>\n",
              "  <tbody>\n",
              "    <tr>\n",
              "      <th>actuación</th>\n",
              "      <td>0.463693</td>\n",
              "    </tr>\n",
              "    <tr>\n",
              "      <th>brillante</th>\n",
              "      <td>0.463693</td>\n",
              "    </tr>\n",
              "    <tr>\n",
              "      <th>emocionante</th>\n",
              "      <td>0.463693</td>\n",
              "    </tr>\n",
              "    <tr>\n",
              "      <th>encantar</th>\n",
              "      <td>0.463693</td>\n",
              "    </tr>\n",
              "    <tr>\n",
              "      <th>película</th>\n",
              "      <td>0.374105</td>\n",
              "    </tr>\n",
              "  </tbody>\n",
              "</table>\n",
              "</div><br><label><b>dtype:</b> float64</label>"
            ]
          },
          "metadata": {}
        },
        {
          "output_type": "stream",
          "name": "stdout",
          "text": [
            "\n",
            "Pesos más altos en la review 2:\n"
          ]
        },
        {
          "output_type": "display_data",
          "data": {
            "text/plain": [
              "aburrido      0.408248\n",
              "actor         0.408248\n",
              "convencer     0.408248\n",
              "lento         0.408248\n",
              "predecible    0.408248\n",
              "guión         0.408248\n",
              "Name: Doc_2, dtype: float64"
            ],
            "text/html": [
              "<div>\n",
              "<style scoped>\n",
              "    .dataframe tbody tr th:only-of-type {\n",
              "        vertical-align: middle;\n",
              "    }\n",
              "\n",
              "    .dataframe tbody tr th {\n",
              "        vertical-align: top;\n",
              "    }\n",
              "\n",
              "    .dataframe thead th {\n",
              "        text-align: right;\n",
              "    }\n",
              "</style>\n",
              "<table border=\"1\" class=\"dataframe\">\n",
              "  <thead>\n",
              "    <tr style=\"text-align: right;\">\n",
              "      <th></th>\n",
              "      <th>Doc_2</th>\n",
              "    </tr>\n",
              "  </thead>\n",
              "  <tbody>\n",
              "    <tr>\n",
              "      <th>aburrido</th>\n",
              "      <td>0.408248</td>\n",
              "    </tr>\n",
              "    <tr>\n",
              "      <th>actor</th>\n",
              "      <td>0.408248</td>\n",
              "    </tr>\n",
              "    <tr>\n",
              "      <th>convencer</th>\n",
              "      <td>0.408248</td>\n",
              "    </tr>\n",
              "    <tr>\n",
              "      <th>lento</th>\n",
              "      <td>0.408248</td>\n",
              "    </tr>\n",
              "    <tr>\n",
              "      <th>predecible</th>\n",
              "      <td>0.408248</td>\n",
              "    </tr>\n",
              "    <tr>\n",
              "      <th>guión</th>\n",
              "      <td>0.408248</td>\n",
              "    </tr>\n",
              "  </tbody>\n",
              "</table>\n",
              "</div><br><label><b>dtype:</b> float64</label>"
            ]
          },
          "metadata": {}
        }
      ]
    },
    {
      "cell_type": "markdown",
      "source": [
        "Si, estas son las palabras clave de cada review y los pesos tienen sentido."
      ],
      "metadata": {
        "id": "APwFdCijW52u"
      }
    }
  ]
}