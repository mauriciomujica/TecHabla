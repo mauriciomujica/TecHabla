{
  "nbformat": 4,
  "nbformat_minor": 0,
  "metadata": {
    "colab": {
      "provenance": [],
      "gpuType": "T4"
    },
    "kernelspec": {
      "name": "python3",
      "display_name": "Python 3"
    },
    "language_info": {
      "name": "python"
    },
    "accelerator": "GPU"
  },
  "cells": [
    {
      "cell_type": "code",
      "execution_count": null,
      "metadata": {
        "id": "5ZVm6CIouwgF"
      },
      "outputs": [],
      "source": [
        "%pip install -U -q google-genai"
      ]
    },
    {
      "cell_type": "markdown",
      "source": [
        "# Procesamiento de Lenguaje Natural con Google Gemini API\n",
        "Este script demuestra diversas aplicaciones de Procesamiento de Lenguaje Natural (PLN) utilizando el modelo Gemini de Google a través de la librería `google-generativeai`."
      ],
      "metadata": {
        "id": "KvvIHZvXyE2n"
      }
    },
    {
      "cell_type": "code",
      "source": [
        "from google.colab import userdata\n",
        "import os\n",
        "\n",
        "GOOGLE_API_KEY = userdata.get('GOOGLE_API_KEY')"
      ],
      "metadata": {
        "id": "0xS2NWpqvWHX"
      },
      "execution_count": 1,
      "outputs": []
    },
    {
      "cell_type": "code",
      "source": [
        "from google import genai\n",
        "from google.genai import types\n",
        "\n",
        "cliente = genai.Client(api_key=GOOGLE_API_KEY)"
      ],
      "metadata": {
        "id": "sL2CGPN7vvHj"
      },
      "execution_count": 2,
      "outputs": []
    },
    {
      "cell_type": "code",
      "source": [
        "MODEL_ID = \"gemini-2.0-flash\" # @param [\"gemini-2.0-flash-lite\",\"gemini-2.0-flash\",\"gemini-2.5-flash-preview-05-20\",\"gemini-2.5-pro-preview-05-06\"] {\"allow-input\":true, isTemplate: true}"
      ],
      "metadata": {
        "id": "msa42Srs1Mci"
      },
      "execution_count": 6,
      "outputs": []
    },
    {
      "cell_type": "markdown",
      "source": [
        "## EJERCICIO\n",
        "\n",
        "Escribí un texto corto sobre una experiencia personal en un transporte público en Buenos Aires.\n",
        "\n",
        "Luego, generá:\n",
        "\n",
        "- Un resumen.\n",
        "- Una clasificación de sentimiento.\n",
        "- Una lista de entidades nombradas."
      ],
      "metadata": {
        "id": "nOPQ22a63k0r"
      }
    },
    {
      "cell_type": "markdown",
      "metadata": {
        "id": "b4ee9d28"
      },
      "source": [
        "En un día lluvioso, tomé el colectivo 60 desde la estación de Constitución. Estaba repleto de gente. El viaje fue lento, con el transito típico de la hora pico. Pude ver la ciudad a través de las ventanas, los edificios grises bajo la lluvia. Hubo un lindo momento cuando una señora mayor no encontraba su SUBE y un chico le pagó el boleto con la suya."
      ]
    },
    {
      "cell_type": "code",
      "source": [
        "texto = \"En un día lluvioso, tomé el colectivo 60 desde la estación de Constitución. Estaba repleto de gente. El viaje fue lento, con el transito típico de la hora pico. Pude ver la ciudad a través de las ventanas, los edificios grises bajo la lluvia. Hubo un lindo momento cuando una señora mayor no encontraba su SUBE y un chico le pagó el boleto con la suya.\""
      ],
      "metadata": {
        "id": "1aPVAPwhICsV"
      },
      "execution_count": 3,
      "outputs": []
    },
    {
      "cell_type": "markdown",
      "source": [
        "# Sumarización"
      ],
      "metadata": {
        "id": "baw1OZRAIdaN"
      }
    },
    {
      "cell_type": "code",
      "source": [
        "pregunta = f\"\"\"Sumariza el siguiente texto en dos oraciones de rapida lectura\n",
        "\n",
        "Texto: {texto}\n",
        "\"\"\"\n",
        "\n",
        "respuesta = cliente.models.generate_content(\n",
        "    model=MODEL_ID,\n",
        "    contents=[pregunta] # Pasa la pregunta como contenido\n",
        ")\n",
        "print(respuesta.text)"
      ],
      "metadata": {
        "colab": {
          "base_uri": "https://localhost:8080/"
        },
        "id": "t3d0ej_xIH78",
        "outputId": "6f2bcc6b-3287-41d8-fc64-8c2e6918fb0c"
      },
      "execution_count": 7,
      "outputs": [
        {
          "output_type": "stream",
          "name": "stdout",
          "text": [
            "En un bondi 60 repleto, bajo la lluvia y el tráfico denso desde Constitución, el paisaje urbano gris pasaba lento. Un gesto amable rompió la rutina cuando un joven pagó el boleto de una abuela.\n",
            "\n"
          ]
        }
      ]
    },
    {
      "cell_type": "markdown",
      "source": [
        "# Clasificación de Sentimiento\n"
      ],
      "metadata": {
        "id": "tGbRkUx5Iiiu"
      }
    },
    {
      "cell_type": "code",
      "source": [
        "pregunta = f\"\"\"Clasificá el siguiente texto como positivo, negativo o neutral y explicá por qué:\n",
        "\n",
        "Texto: {texto}\n",
        "\"\"\"\n",
        "\n",
        "respuesta = cliente.models.generate_content(\n",
        "    model=MODEL_ID,\n",
        "    contents=[pregunta] # Pasa la pregunta como contenido\n",
        ")\n",
        "print(respuesta.text)"
      ],
      "metadata": {
        "colab": {
          "base_uri": "https://localhost:8080/"
        },
        "id": "r7NpSMaXIRZ_",
        "outputId": "e1345791-59ca-477c-87fa-953fefabdda8"
      },
      "execution_count": 8,
      "outputs": [
        {
          "output_type": "stream",
          "name": "stdout",
          "text": [
            "El texto es **neutral con un toque ligeramente positivo**.\n",
            "\n",
            "Aquí está el por qué:\n",
            "\n",
            "*   **Neutral:** La mayor parte del texto describe simplemente hechos y observaciones: día lluvioso, tomar el colectivo, estaba lleno, tráfico lento, edificios grises. Estos elementos no son inherentemente positivos ni negativos. Son simplemente descriptivos.\n",
            "*   **Ligeramente Positivo:** El texto incluye un momento positivo: \"Hubo un lindo momento cuando una señora mayor no encontraba su SUBE y un chico le pagó el boleto con la suya\". Este acto de amabilidad es un elemento positivo que eleva el tono general del texto ligeramente.\n",
            "\n",
            "Si el texto se centrara más en lo incómodo que estaba el colectivo, o en la frustración del tráfico, sería negativo. Si solo describiera el viaje sin la anécdota de la SUBE, sería puramente neutral.\n",
            "\n"
          ]
        }
      ]
    },
    {
      "cell_type": "markdown",
      "source": [
        "# Extracción de Entidades"
      ],
      "metadata": {
        "id": "BltEohlGImJ2"
      }
    },
    {
      "cell_type": "code",
      "source": [
        "prompt = f\"\"\"Extraé todas las entidades nombradas del siguiente texto (personas, organizaciones, lugares, objetos) y clasificálas:\n",
        "\n",
        "Texto: {texto}\n",
        "\"\"\"\n",
        "\n",
        "respuesta = cliente.models.generate_content(\n",
        "    model=MODEL_ID,\n",
        "    contents=[prompt] # Pasa la pregunta como contenido\n",
        ")\n",
        "print(respuesta.text)"
      ],
      "metadata": {
        "colab": {
          "base_uri": "https://localhost:8080/"
        },
        "id": "9oORW6AaIXd_",
        "outputId": "29d9ae38-06ed-4449-de55-246a48b8f38f"
      },
      "execution_count": 9,
      "outputs": [
        {
          "output_type": "stream",
          "name": "stdout",
          "text": [
            "*   **Personas:** señora mayor, chico\n",
            "*   **Organizaciones:** Ninguna\n",
            "*   **Lugares:** Constitución\n",
            "*   **Objetos:** colectivo 60, SUBE\n"
          ]
        }
      ]
    }
  ]
}