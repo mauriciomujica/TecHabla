{
  "nbformat": 4,
  "nbformat_minor": 0,
  "metadata": {
    "colab": {
      "provenance": []
    },
    "kernelspec": {
      "name": "python3",
      "display_name": "Python 3"
    },
    "language_info": {
      "name": "python"
    }
  },
  "cells": [
    {
      "cell_type": "markdown",
      "source": [
        "# 1. Instalaciones e Importaciones"
      ],
      "metadata": {
        "id": "NufE2aqOeofZ"
      }
    },
    {
      "cell_type": "code",
      "execution_count": 1,
      "metadata": {
        "id": "Idwdlzs42Aew",
        "colab": {
          "base_uri": "https://localhost:8080/"
        },
        "outputId": "14b28df7-5eb7-42d6-9ce7-7b60d1d2b390"
      },
      "outputs": [
        {
          "output_type": "stream",
          "name": "stdout",
          "text": [
            "\u001b[31mERROR: pip's dependency resolver does not currently take into account all the packages that are installed. This behaviour is the source of the following dependency conflicts.\n",
            "tsfresh 0.21.0 requires scipy>=1.14.0; python_version >= \"3.10\", but you have scipy 1.13.1 which is incompatible.\n",
            "thinc 8.3.6 requires numpy<3.0.0,>=2.0.0, but you have numpy 1.26.4 which is incompatible.\u001b[0m\u001b[31m\n",
            "\u001b[0m"
          ]
        }
      ],
      "source": [
        "# Gensim es la librería clave para trabajar con Word2Vec, GloVe, FastText\n",
        "!pip install gensim matplotlib seaborn scikit-learn > /dev/null"
      ]
    },
    {
      "cell_type": "code",
      "source": [
        "!pip uninstall gensim -y # Remove the existing gensim installation\n",
        "!pip install gensim # Reinstall gensim to align with the NumPy version\n",
        "# Restart the kernel to ensure the changes take effect"
      ],
      "metadata": {
        "id": "aRxOgRsAZ9g-",
        "colab": {
          "base_uri": "https://localhost:8080/"
        },
        "outputId": "16f096b6-8ce1-4ed1-b639-dcd80e05086e"
      },
      "execution_count": 2,
      "outputs": [
        {
          "output_type": "stream",
          "name": "stdout",
          "text": [
            "Found existing installation: gensim 4.3.3\n",
            "Uninstalling gensim-4.3.3:\n",
            "  Successfully uninstalled gensim-4.3.3\n",
            "Collecting gensim\n",
            "  Using cached gensim-4.3.3-cp311-cp311-manylinux_2_17_x86_64.manylinux2014_x86_64.whl.metadata (8.1 kB)\n",
            "Requirement already satisfied: numpy<2.0,>=1.18.5 in /usr/local/lib/python3.11/dist-packages (from gensim) (1.26.4)\n",
            "Requirement already satisfied: scipy<1.14.0,>=1.7.0 in /usr/local/lib/python3.11/dist-packages (from gensim) (1.13.1)\n",
            "Requirement already satisfied: smart-open>=1.8.1 in /usr/local/lib/python3.11/dist-packages (from gensim) (7.1.0)\n",
            "Requirement already satisfied: wrapt in /usr/local/lib/python3.11/dist-packages (from smart-open>=1.8.1->gensim) (1.17.2)\n",
            "Using cached gensim-4.3.3-cp311-cp311-manylinux_2_17_x86_64.manylinux2014_x86_64.whl (26.7 MB)\n",
            "Installing collected packages: gensim\n",
            "Successfully installed gensim-4.3.3\n"
          ]
        }
      ]
    },
    {
      "cell_type": "code",
      "source": [
        "import gensim\n",
        "from gensim.models import KeyedVectors # Para cargar modelos pre-entrenados\n",
        "import numpy as np\n",
        "import warnings\n",
        "warnings.filterwarnings('ignore') # Para evitar warnings de gensim a veces\n",
        "\n",
        "# Para visualización (Opcional)\n",
        "import matplotlib.pyplot as plt\n",
        "import seaborn as sns\n",
        "from sklearn.decomposition import PCA\n",
        "from sklearn.manifold import TSNE\n",
        "\n",
        "print(\"Librerías importadas.\")\n",
        "# Nota: Más adelante necesitaremos descargar un archivo de vectores pre-entrenados."
      ],
      "metadata": {
        "id": "NJC-y1t-2h1U",
        "colab": {
          "base_uri": "https://localhost:8080/"
        },
        "outputId": "08613bc2-5424-4003-f843-8eb74024630a"
      },
      "execution_count": 1,
      "outputs": [
        {
          "output_type": "stream",
          "name": "stdout",
          "text": [
            "Librerías importadas.\n"
          ]
        }
      ]
    },
    {
      "cell_type": "code",
      "source": [
        "from google.colab import drive\n",
        "drive.mount('/content/drive')"
      ],
      "metadata": {
        "colab": {
          "base_uri": "https://localhost:8080/"
        },
        "id": "VFFDYi-F7yLt",
        "outputId": "399b404c-d196-4b32-891c-305be65c1ce3"
      },
      "execution_count": 2,
      "outputs": [
        {
          "output_type": "stream",
          "name": "stdout",
          "text": [
            "Mounted at /content/drive\n"
          ]
        }
      ]
    },
    {
      "cell_type": "code",
      "source": [
        "path_to_vectors = '/content/drive/MyDrive/glove_fasttext/SBW-vectors-300-min5.bin.gz'"
      ],
      "metadata": {
        "id": "up9W-fYrKWWp"
      },
      "execution_count": 3,
      "outputs": []
    },
    {
      "cell_type": "code",
      "source": [
        "# Intentar cargar el modelo\n",
        "try:\n",
        "    # Si es formato binario (.bin, .bin.gz): binary=True\n",
        "    # Si es formato texto (.vec, .txt, .vec.gz): binary=False\n",
        "    print(\"Cargando vectores... (puede tardar unos minutos)\")\n",
        "    word_vectors = KeyedVectors.load_word2vec_format(path_to_vectors, binary=True)\n",
        "    # Si da error con binary=True, y tu archivo es .vec o .txt, prueba con binary=False\n",
        "    # word_vectors = KeyedVectors.load_word2vec_format(path_to_vectors, binary=False)\n",
        "    print(f\"¡Vectores cargados! Vocabulario: {len(word_vectors.index_to_key)} palabras. Dimensión: {word_vectors.vector_size}\")\n",
        "except FileNotFoundError:\n",
        "    print(f\"Error: No se encontró el archivo en la ruta '{path_to_vectors}'.\")\n",
        "    print(\"Por favor, descarga los vectores pre-entrenados (ej: SBWC)\")\n",
        "    print(\"y asegúrate de que la variable 'path_to_vectors' tenga la ruta correcta.\")\n",
        "    word_vectors = None # Dejarlo como None si no se pudo cargar"
      ],
      "metadata": {
        "id": "AMvrBByh53cq",
        "colab": {
          "base_uri": "https://localhost:8080/"
        },
        "outputId": "9d619f4e-0544-4e84-fd31-f2550fc86aaf"
      },
      "execution_count": 4,
      "outputs": [
        {
          "output_type": "stream",
          "name": "stdout",
          "text": [
            "Cargando vectores... (puede tardar unos minutos)\n",
            "¡Vectores cargados! Vocabulario: 1692025 palabras. Dimensión: 300\n"
          ]
        }
      ]
    },
    {
      "cell_type": "markdown",
      "source": [
        "# 2. Micro-Laboratorio (Ejercicio Práctico)\n",
        "\n",
        "**Consigna:** (Asumiendo que `word_vectors` se cargó correctamente)\n",
        "\n",
        "1.  **Exploración de Similitud:**\n",
        "    *   Elegir 5 palabras que les interesen (intenten variar: un lugar, una profesión, un concepto abstracto, una comida, un sentimiento).\n",
        "    *   Para cada una, usar `word_vectors.most_similar()` para encontrar las 5 palabras más parecidas.\n",
        "    *   Anotar los resultados. ¿Les parecen lógicos? ¿Hay alguna similitud sorprendente o extraña?\n",
        "\n",
        "2.  **Prueba de Analogías:**\n",
        "    *   Inventar y probar 3 analogías diferentes usando `word_vectors.most_similar(positive=[...], negative=[...])`.\n",
        "    *   Ideas:\n",
        "        *   `programador` es a `computadora` como `médico` es a `?`\n",
        "        *   `Argentina` es a `peso` como `Japón` es a `?`\n",
        "        *   `caminar` es a `pierna` como `hablar` es a `?`\n",
        "    *   Verificar que todas las palabras de la analogía estén en el vocabulario antes de probarla.\n",
        "    *   Anotar los resultados. ¿Funcionan las analogías como esperaban?\n",
        "\n",
        "3.  **(Opcional) Medir Similitud:**\n",
        "    *   Elegir 3 pares de palabras:\n",
        "        *   Un par de sinónimos claros (ej: `estudiante`, `alumno`).\n",
        "        *   Un par de antónimos (ej: `grande`, `pequeño`).\n",
        "        *   Un par de palabras no relacionadas (ej: `nube`, `zapato`).\n",
        "    *   Calcular `word_vectors.similarity()` para cada par.\n",
        "    *   ¿Los valores de similitud reflejan la relación entre las palabras? (Esperamos alta para sinónimos, baja/media-baja para no relacionadas, y ¿qué pasa con antónimos?).\n",
        "\n",
        "**¡Asegúrense de que las palabras que usan existan en `word_vectors`!**"
      ],
      "metadata": {
        "id": "nC63WVgQSvzt"
      }
    },
    {
      "cell_type": "code",
      "metadata": {
        "colab": {
          "base_uri": "https://localhost:8080/"
        },
        "id": "9b4d592a",
        "outputId": "4e99c361-ba8d-4e77-b8d0-f488dc03a976"
      },
      "source": [
        "if 'word_vectors' in locals() and word_vectors:\n",
        "    # 1. Exploración de Similitud:\n",
        "\n",
        "    # Elegir 5 palabras de interés (variando categorías)\n",
        "    palabras_interes = ['argentina', 'ingeniero', 'justicia', 'pizza', 'felicidad'] # Ejemplo de palabras\n",
        "\n",
        "    print(\"--- Exploración de Similitud ---\")\n",
        "\n",
        "    for palabra in palabras_interes:\n",
        "        if palabra in word_vectors:\n",
        "            try:\n",
        "                similares = word_vectors.most_similar(palabra, topn=5)\n",
        "                print(f\"\\nPalabras más similares a '{palabra}':\")\n",
        "                for similar, score in similares:\n",
        "                    print(f\"- {similar}: {score:.4f}\")\n",
        "            except KeyError:\n",
        "                 # This catch is technically redundant with the 'in word_vectors' check,\n",
        "                 # but kept for robustness against potential unexpected issues.\n",
        "                print(f\"Error: La palabra '{palabra}' no se encontró en el vocabulario.\")\n",
        "            except Exception as e:\n",
        "                print(f\"Ocurrió un error inesperado al procesar '{palabra}': {e}\")\n",
        "        else:\n",
        "            print(f\"\\nLa palabra '{palabra}' no se encontró en el vocabulario. Saltando.\")\n",
        "else:\n",
        "    print(\"\\nLa variable 'word_vectors' no está definida o está vacía. Por favor, carga el modelo de vectores de palabras primero.\")"
      ],
      "execution_count": 5,
      "outputs": [
        {
          "output_type": "stream",
          "name": "stdout",
          "text": [
            "--- Exploración de Similitud ---\n",
            "\n",
            "Palabras más similares a 'argentina':\n",
            "- uruguaya: 0.8044\n",
            "- chilena: 0.7621\n",
            "- argentino: 0.7089\n",
            "- boliviana: 0.7052\n",
            "- Argentina: 0.7017\n",
            "\n",
            "Palabras más similares a 'ingeniero':\n",
            "- agrónomo: 0.7446\n",
            "- arquitecto: 0.7008\n",
            "- Ingeniero: 0.6828\n",
            "- Eduardo_Torroja_Miret: 0.6587\n",
            "- José_Eugenio_Ribera: 0.6510\n",
            "\n",
            "Palabras más similares a 'justicia':\n",
            "- equidad: 0.6148\n",
            "- retardación: 0.5836\n",
            "- vindicta: 0.5760\n",
            "- justica: 0.5701\n",
            "- rectitud: 0.5622\n",
            "\n",
            "Palabras más similares a 'pizza':\n",
            "- hamburguesa: 0.7846\n",
            "- pizzas: 0.7456\n",
            "- ensalada: 0.7434\n",
            "- salchicha: 0.7310\n",
            "- lasaña: 0.7278\n",
            "\n",
            "Palabras más similares a 'felicidad':\n",
            "- alegría: 0.7278\n",
            "- infelicidad: 0.6999\n",
            "- eterna: 0.6761\n",
            "- tranquilidad: 0.6640\n",
            "- gloria: 0.6630\n"
          ]
        }
      ]
    },
    {
      "cell_type": "code",
      "metadata": {
        "colab": {
          "base_uri": "https://localhost:8080/"
        },
        "id": "cc4a4bfa",
        "outputId": "692da215-4231-4ac6-8225-408afdf47d94"
      },
      "source": [
        "if 'word_vectors' in locals() and word_vectors:\n",
        "    print(\"\\n--- Prueba de Analogías ---\")\n",
        "\n",
        "    # Analogía 1: programador es a computadora como médico es a ?\n",
        "    analogia1_palabras = ['programador', 'computadora', 'médico']\n",
        "    if all(p in word_vectors for p in analogia1_palabras):\n",
        "        try:\n",
        "            analogia1_resultado = word_vectors.most_similar(positive=['médico', 'computadora'], negative=['programador'], topn=1)\n",
        "            print(\"programador - computadora + médico ≈\", analogia1_resultado)\n",
        "        except Exception as e:\n",
        "            print(f\"Ocurrió un error inesperado en la analogía 1: {e}\")\n",
        "    else:\n",
        "        missing_words = [p for p in analogia1_palabras if p not in word_vectors]\n",
        "        print(f\"Faltan palabras para la analogía 1 ({' - '.join(analogia1_palabras)}): {missing_words}. Saltando.\")\n",
        "\n",
        "\n",
        "    # Analogía 2: Argentina es a peso como Japón es a ? (Esperamos Yen)\n",
        "    analogia2_palabras = ['argentina', 'peso', 'japón']\n",
        "    # Check for lower case or potential variations if needed, but sticking to provided words for now\n",
        "    if all(p in word_vectors for p in analogia2_palabras):\n",
        "        try:\n",
        "            analogia2_resultado = word_vectors.most_similar(positive=['japón', 'peso'], negative=['argentina'], topn=1)\n",
        "            print(\"Argentina - peso + Japón ≈\", analogia2_resultado)\n",
        "        except Exception as e:\n",
        "            print(f\"Ocurrió un error inesperado en la analogía 2: {e}\")\n",
        "    else:\n",
        "        missing_words = [p for p in analogia2_palabras if p not in word_vectors]\n",
        "        print(f\"Faltan palabras para la analogía 2 ({' - '.join(analogia2_palabras)}): {missing_words}. Saltando.\")\n",
        "\n",
        "    # Analogía 3: caminar es a pierna como hablar es a ? (Esperamos boca o lengua)\n",
        "    analogia3_palabras = ['caminar', 'pierna', 'hablar']\n",
        "    if all(p in word_vectors for p in analogia3_palabras):\n",
        "        try:\n",
        "            analogia3_resultado = word_vectors.most_similar(positive=['hablar', 'pierna'], negative=['caminar'], topn=1)\n",
        "            print(\"caminar - pierna + hablar ≈\", analogia3_resultado)\n",
        "        except Exception as e:\n",
        "            print(f\"Ocurrió un error inesperado en la analogía 3: {e}\")\n",
        "    else:\n",
        "        missing_words = [p for p in analogia3_palabras if p not in word_vectors]\n",
        "        print(f\"Faltan palabras para la analogía 3 ({' - '.join(analogia3_palabras)}): {missing_words}. Saltando.\")\n",
        "\n",
        "else:\n",
        "    print(\"\\nLa variable 'word_vectors' no está definida o está vacía. Esta celda requiere que el modelo esté cargado.\")"
      ],
      "execution_count": 6,
      "outputs": [
        {
          "output_type": "stream",
          "name": "stdout",
          "text": [
            "\n",
            "--- Prueba de Analogías ---\n",
            "programador - computadora + médico ≈ [('enfermera', 0.4909675419330597)]\n",
            "Argentina - peso + Japón ≈ [('rikishi', 0.4128548502922058)]\n",
            "caminar - pierna + hablar ≈ [('mano', 0.5441451668739319)]\n"
          ]
        }
      ]
    }
  ]
}